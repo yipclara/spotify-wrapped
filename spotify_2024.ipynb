{
  "nbformat": 4,
  "nbformat_minor": 0,
  "metadata": {
    "colab": {
      "provenance": [],
      "authorship_tag": "ABX9TyNVPhWeGtXDUtXzuhPQBq33",
      "include_colab_link": true
    },
    "kernelspec": {
      "name": "python3",
      "display_name": "Python 3"
    },
    "language_info": {
      "name": "python"
    }
  },
  "cells": [
    {
      "cell_type": "markdown",
      "metadata": {
        "id": "view-in-github",
        "colab_type": "text"
      },
      "source": [
        "<a href=\"https://colab.research.google.com/github/yipclara/spotify-wrapped/blob/main/spotify_2024.ipynb\" target=\"_parent\"><img src=\"https://colab.research.google.com/assets/colab-badge.svg\" alt=\"Open In Colab\"/></a>"
      ]
    },
    {
      "cell_type": "code",
      "source": [
        "import numpy as np\n",
        "import pandas as pd\n",
        "import json\n",
        "import requests\n",
        "from datetime import datetime\n",
        "import re\n",
        "import ast"
      ],
      "metadata": {
        "id": "hrYmxYlgfTtv"
      },
      "execution_count": null,
      "outputs": []
    },
    {
      "cell_type": "markdown",
      "source": [
        "#### loading local file"
      ],
      "metadata": {
        "id": "LESw1fBiXnKk"
      }
    },
    {
      "cell_type": "code",
      "source": [
        "# load streaming json into df\n",
        "with open('all2024streaming.json', 'r') as file:\n",
        "    data = json.load(file)\n",
        "\n",
        "sh = pd.DataFrame.from_dict(data)"
      ],
      "metadata": {
        "id": "mNxU-5CQfTi2"
      },
      "execution_count": null,
      "outputs": []
    },
    {
      "cell_type": "code",
      "source": [
        "### if you're running this not for the first time and you saved off the df after all the api calls\n",
        "\n",
        "# load streaming json into df\n",
        "# sh = pd.read_csv('all_2024_streaming.csv')"
      ],
      "metadata": {
        "id": "6CeSY8__tb4_"
      },
      "execution_count": null,
      "outputs": []
    },
    {
      "cell_type": "code",
      "source": [
        "sh['endTime'] = pd.to_datetime(sh['endTime'])\n",
        "sh"
      ],
      "metadata": {
        "id": "E2XLAAGNfT2j"
      },
      "execution_count": null,
      "outputs": []
    },
    {
      "cell_type": "markdown",
      "source": [
        "## Things I want to know\n",
        "### by time\n",
        "1. split into month columns\n",
        "1. split into date columns\n",
        "\n",
        "- minutes per year\n",
        "- minutes per month (in hours)\n",
        "- most listened day of the year\n",
        "\n",
        "### by songs\n",
        "- num unique songs\n",
        "- all songs by minutes listened (in hours)\n",
        "- all songs by instances listened\n",
        "\n",
        "### by artist\n",
        "- num unique artists\n",
        "- all artists by minutes listened\n",
        "- top 5most listened to artist by week/month\n",
        "   - graph\n",
        "   - see if it correlates with concerts\n",
        "\n",
        "### genres\n",
        "1. do some bucketing first (manual)\n",
        "   1. dupe rows with multiple genres??\n",
        "   1. so that you can count distincts, but thats the only use for this dataset\n",
        "   1. and then do the theming, add a dict -> update columns\n",
        "1. try to ensure each song is only one theme\n",
        "1. 1 song -> 1 theme\n",
        "\n",
        "- top genres in minutes (hours)\n",
        "   - by theme\n",
        "- top genres per week/month\n",
        "   - by theme\n",
        "- most fun/unique genre (manual inspection)\n",
        "\n",
        "\n",
        "\n",
        "\n"
      ],
      "metadata": {
        "id": "ubq6lOHhijop"
      }
    },
    {
      "cell_type": "markdown",
      "source": [
        "### Getting data"
      ],
      "metadata": {
        "id": "YgRDWrLr0hyM"
      }
    },
    {
      "cell_type": "code",
      "source": [
        "# Spotify api https://developer.spotify.com/documentation/web-api\n",
        "def get_access_token():\n",
        "    client_id=''  # TODO replace with your client id\n",
        "    client_secret=''  # TODO replace with your client id\n",
        "\n",
        "    response = requests.post(\n",
        "        \"https://accounts.spotify.com/api/token\",\n",
        "        data={\"grant_type\": \"client_credentials\",\n",
        "              \"client_id\": client_id,\n",
        "              \"client_secret\": client_secret},\n",
        "        headers={\"Content-Type\": \"application/x-www-form-urlencoded\"}\n",
        "    )\n",
        "    print(response)\n",
        "    return response.json()[\"access_token\"]\n",
        "\n",
        "\n",
        "token = get_access_token()\n",
        "print(token)"
      ],
      "metadata": {
        "id": "qKObg0fSllXS"
      },
      "execution_count": null,
      "outputs": []
    },
    {
      "cell_type": "code",
      "source": [
        "def get_artist_and_genre(artist_name):\n",
        "    print(f\"searching for artist {artist_name}\")\n",
        "\n",
        "    # handle special characters\n",
        "    artist_name = artist_name.replace(\"&\", \"%26\")\n",
        "\n",
        "    response = requests.get(\n",
        "        f\"https://api.spotify.com/v1/search?q={artist_name}&type=artist\",\n",
        "        headers={\"Authorization\": f\"Bearer {token}\",\n",
        "                 \"Content-Type\": \"application/x-www-form-urlencoded\"}\n",
        "    )\n",
        "    if response.status_code == 200:\n",
        "      artist_id = response.json()[\"artists\"][\"items\"][0][\"id\"]\n",
        "      genre = response.json()[\"artists\"][\"items\"][0][\"genres\"]\n",
        "      return artist_id, genre\n",
        "    else:\n",
        "      print(response.text)"
      ],
      "metadata": {
        "id": "PnR-W_dCnLZH"
      },
      "execution_count": null,
      "outputs": []
    },
    {
      "cell_type": "code",
      "source": [
        "unique_artists = sh[\"artistName\"].unique()\n",
        "\n",
        "for artistName in unique_artists:\n",
        "  aID, aGenre = get_artist_and_genre(artistName)\n",
        "  if aID:\n",
        "    sh.loc[sh['artistName'] == artistName, \"artistId\"] = aID\n",
        "    sh.loc[sh['artistName'] == artistName, \"genres\"] = str(aGenre)\n",
        "\n",
        "sh"
      ],
      "metadata": {
        "collapsed": true,
        "id": "AVuqjH85q8Z9"
      },
      "execution_count": null,
      "outputs": []
    },
    {
      "cell_type": "code",
      "source": [
        "# export to csv, save it for later -- download from colab\n",
        "sh.to_csv(\"all_2024_streaming.csv\", index=False)"
      ],
      "metadata": {
        "id": "IhOX5RjGrV1W"
      },
      "execution_count": null,
      "outputs": []
    },
    {
      "cell_type": "markdown",
      "source": [
        "### TIME"
      ],
      "metadata": {
        "id": "HE2FifMk0r7W"
      }
    },
    {
      "cell_type": "markdown",
      "source": [
        "#### Getting data"
      ],
      "metadata": {
        "id": "byWDQK464WbS"
      }
    },
    {
      "cell_type": "code",
      "source": [
        "def get_month(row):\n",
        "  return row[\"endTime\"].to_pydatetime().month\n",
        "\n",
        "def get_week(row):\n",
        "  return row[\"endTime\"].to_pydatetime().isocalendar().week\n",
        "\n",
        "def convert_ts_to_date(row):\n",
        "  return row[\"endTime\"].date()"
      ],
      "metadata": {
        "id": "J68MZ_gv1osy"
      },
      "execution_count": null,
      "outputs": []
    },
    {
      "cell_type": "code",
      "source": [
        "sh[\"month\"] = sh.apply(get_month, axis=1)\n",
        "sh[\"week\"] = sh.apply(get_week, axis=1)\n",
        "sh[\"date\"] = sh.apply(convert_ts_to_date, axis=1)\n",
        "sh"
      ],
      "metadata": {
        "id": "9lxqGxki3NPe",
        "collapsed": true
      },
      "execution_count": null,
      "outputs": []
    },
    {
      "cell_type": "markdown",
      "source": [
        "#### Analyzing"
      ],
      "metadata": {
        "id": "HZeRw2pa4ZIs"
      }
    },
    {
      "cell_type": "code",
      "source": [
        "# listening time by month\n",
        "def convert_to_hours(row):\n",
        "  rawHours = (row[\"msPlayed\"]/3600000)\n",
        "  return round(rawHours, 2)\n",
        "\n",
        "def convert_to_minutes(row):\n",
        "  rawMins = (row[\"msPlayed\"]/60000)\n",
        "  return round(rawMins, 2)"
      ],
      "metadata": {
        "id": "QEAxkp8q6u_M"
      },
      "execution_count": null,
      "outputs": []
    },
    {
      "cell_type": "code",
      "source": [
        "listeningByMonth = sh.groupby('month', as_index=False, sort=False).agg({'msPlayed':'sum'})\n",
        "listeningByMonth[\"hours\"] = listeningByMonth.apply(convert_to_hours, axis=1)\n",
        "listeningByMonth"
      ],
      "metadata": {
        "id": "GEwcxSdJ4cV6"
      },
      "execution_count": null,
      "outputs": []
    },
    {
      "source": [
        "# @title month vs hours\n",
        "\n",
        "from matplotlib import pyplot as plt\n",
        "import seaborn as sns\n",
        "def _plot_series(series, series_name, series_index=0):\n",
        "  palette = list(sns.palettes.mpl_palette('Dark2'))\n",
        "  xs = series['month']\n",
        "  ys = series['hours']\n",
        "\n",
        "  plt.plot(xs, ys, label=series_name, color=palette[series_index % len(palette)])\n",
        "\n",
        "fig, ax = plt.subplots(figsize=(10, 5.2), layout='constrained')\n",
        "df_sorted = listeningByMonth.sort_values('month', ascending=True)\n",
        "_plot_series(df_sorted, '')\n",
        "sns.despine(fig=fig, ax=ax)\n",
        "plt.xlabel('month')\n",
        "_ = plt.ylabel('hours')"
      ],
      "cell_type": "code",
      "execution_count": null,
      "outputs": [],
      "metadata": {
        "collapsed": true,
        "id": "vbavgUwS6byA"
      }
    },
    {
      "cell_type": "code",
      "source": [
        "# grab the most listened month\n",
        "listeningByMonth.sort_values(by=['msPlayed'],ascending=False)"
      ],
      "metadata": {
        "id": "8isiZYbA7_Lk"
      },
      "execution_count": null,
      "outputs": []
    },
    {
      "cell_type": "code",
      "source": [
        "# listening time by week\n",
        "listeningByWeek = sh.groupby('week', as_index=False, sort=False).agg({'msPlayed':'sum'})\n",
        "listeningByWeek[\"hours\"] = listeningByWeek.apply(convert_to_hours, axis=1)\n",
        "listeningByWeek"
      ],
      "metadata": {
        "collapsed": true,
        "id": "Ecg2JzU76pD8"
      },
      "execution_count": null,
      "outputs": []
    },
    {
      "source": [
        "# @title date vs hours\n",
        "\n",
        "from matplotlib import pyplot as plt\n",
        "import seaborn as sns\n",
        "def _plot_series(series, series_name, series_index=0):\n",
        "  palette = list(sns.palettes.mpl_palette('Dark2'))\n",
        "  xs = series['week']\n",
        "  ys = series['hours']\n",
        "\n",
        "  plt.plot(xs, ys, label=series_name, color=palette[series_index % len(palette)])\n",
        "\n",
        "fig, ax = plt.subplots(figsize=(10, 5.2), layout='constrained')\n",
        "df_sorted = listeningByWeek.sort_values('week', ascending=True)\n",
        "_plot_series(df_sorted, '')\n",
        "sns.despine(fig=fig, ax=ax)\n",
        "plt.xlabel('week')\n",
        "_ = plt.ylabel('hours')"
      ],
      "cell_type": "code",
      "execution_count": null,
      "outputs": [],
      "metadata": {
        "collapsed": true,
        "id": "O0tZnmyv7FZn"
      }
    },
    {
      "cell_type": "code",
      "source": [
        "# grab the most listened to week\n",
        "listeningByWeek.sort_values(by=['msPlayed'],ascending=False)"
      ],
      "metadata": {
        "collapsed": true,
        "id": "aZH_Vve_7sdr"
      },
      "execution_count": null,
      "outputs": []
    },
    {
      "cell_type": "code",
      "source": [
        "# listening time by date\n",
        "listeningByDate = sh.groupby('date', as_index=False, sort=False).agg({'msPlayed':'sum'})\n",
        "listeningByDate[\"minutes\"] = listeningByDate.apply(convert_to_minutes, axis=1)\n",
        "listeningByDate"
      ],
      "metadata": {
        "id": "svgHJ9p96Xcw"
      },
      "execution_count": null,
      "outputs": []
    },
    {
      "cell_type": "code",
      "source": [
        "# grab the most listened to date\n",
        "listeningByDate.sort_values(by=['msPlayed'],ascending=False)"
      ],
      "metadata": {
        "id": "gWUSXqt67JFc"
      },
      "execution_count": null,
      "outputs": []
    },
    {
      "cell_type": "markdown",
      "source": [
        "### SONGS"
      ],
      "metadata": {
        "id": "mDofa-mq8Kh2"
      }
    },
    {
      "cell_type": "code",
      "source": [
        "# # songs by instances listened (distinct obvi)\n",
        "sh.groupby(['artistName', 'trackName']).size().reset_index().rename(columns={0:'count'}).sort_values(by=['count'],ascending=False)\n",
        "#.to_csv(\"listens.csv\", index=False)"
      ],
      "metadata": {
        "id": "FDh1p9r-8VsK"
      },
      "execution_count": null,
      "outputs": []
    },
    {
      "cell_type": "code",
      "source": [
        "# songs by hours listened\n",
        "listeningBySong = sh.groupby(['artistName', 'trackName'], as_index=False, sort=False).agg({'msPlayed':'sum'})\n",
        "listeningBySong[\"hours\"] = listeningBySong.apply(convert_to_hours, axis=1)\n",
        "listeningBySong.sort_values(by=['msPlayed'],ascending=False)"
      ],
      "metadata": {
        "id": "kSIDWyYs8YBU"
      },
      "execution_count": null,
      "outputs": []
    },
    {
      "cell_type": "markdown",
      "source": [
        "### ARTIST"
      ],
      "metadata": {
        "id": "CA_bNS4tFyLR"
      }
    },
    {
      "cell_type": "code",
      "source": [
        "# artists by minutes/hours listened\n",
        "listeningByArtist = listeningBySong.groupby(['artistName'], as_index=False, sort=False).agg({'msPlayed':'sum'})\n",
        "listeningByArtist[\"hours\"] = listeningByArtist.apply(convert_to_hours, axis=1)\n",
        "listeningByArtist.sort_values(by=['hours'],ascending=False)"
      ],
      "metadata": {
        "id": "np0dgtBsF0KR"
      },
      "execution_count": null,
      "outputs": []
    },
    {
      "cell_type": "code",
      "source": [
        "# listening by month/artist\n",
        "## agg by month, artist\n",
        "listeningByMonthArtist = sh.groupby(['month', 'artistName'], as_index=False, sort=False).agg({'msPlayed':'sum'})\n",
        "listeningByMonthArtist[\"minutes\"] = listeningByMonthArtist.apply(convert_to_minutes, axis=1)\n",
        "listeningByMonthArtist"
      ],
      "metadata": {
        "id": "pNt8mCmIF6bz"
      },
      "execution_count": null,
      "outputs": []
    },
    {
      "cell_type": "code",
      "source": [
        "## (partition by) per month, grab the top 3\n",
        "topArtistByMonth = listeningByMonthArtist.groupby(['month'])[['month', 'artistName', 'minutes']].apply(lambda grp: grp.nlargest(3, 'minutes'))\n",
        "topArtistByMonth.to_csv(\"topMonthlyArtists2024.csv\", index=False)"
      ],
      "metadata": {
        "id": "3tVKgIrnKeZO"
      },
      "execution_count": null,
      "outputs": []
    },
    {
      "cell_type": "code",
      "source": [
        "import seaborn as sns\n",
        "\n",
        "sns.catplot(\n",
        "    x=\"month\",       # x variable name\n",
        "    y=\"minutes\",       # y variable name\n",
        "    hue=\"artistName\",  # group variable name\n",
        "    data=topArtistByMonth,     # dataframe to plot\n",
        "    kind=\"point\",\n",
        "    aspect=3,\n",
        ")"
      ],
      "metadata": {
        "id": "pylHRV9UUAcW"
      },
      "execution_count": null,
      "outputs": []
    },
    {
      "cell_type": "markdown",
      "source": [
        "### GENRES"
      ],
      "metadata": {
        "id": "AyRymRiy0dXU"
      }
    },
    {
      "cell_type": "markdown",
      "source": [
        "#### Getting data"
      ],
      "metadata": {
        "id": "s_YkgMH2FoYN"
      }
    },
    {
      "cell_type": "code",
      "source": [
        "# get all unique microgenres\n",
        "microgenres = set()\n",
        "for index, row in sh.iterrows():\n",
        "  gs = row['genres'][1:-1].split(\",\")\n",
        "  for mg in gs:\n",
        "    # print(mg)\n",
        "    microgenres.add(mg.strip())\n",
        "\n",
        "print(microgenres)"
      ],
      "metadata": {
        "collapsed": true,
        "id": "pqnNd7ZNttDR"
      },
      "execution_count": null,
      "outputs": []
    },
    {
      "cell_type": "code",
      "source": [
        "# load the csv of the mappings\n",
        "genres = pd.read_csv('genreTags.csv')\n",
        "genres"
      ],
      "metadata": {
        "id": "k6Rk-B_6uXsf"
      },
      "execution_count": null,
      "outputs": []
    },
    {
      "cell_type": "code",
      "source": [
        "def lookup_genre(row):\n",
        "  x = re.search(\"\\[\\'(.)*\\'\\]\", row['genres'])\n",
        "  if x:\n",
        "    x = ast.literal_eval(x.group())\n",
        "    resultsLen = len(genres.loc[genres['tag'] == \"'\" + x[0] + \"'\"]['genre'].values)\n",
        "\n",
        "    if resultsLen > 0:\n",
        "      y = genres.loc[genres['tag'] == \"'\" + x[0] + \"'\"]['genre'].values[0]\n",
        "      return y\n",
        "    elif resultsLen == 0:\n",
        "      return None\n",
        "    else:\n",
        "      print(row['genres'])\n",
        "      return None\n",
        "  else:\n",
        "    if not row['genres']:\n",
        "      print(row['genres'])\n",
        "    return None"
      ],
      "metadata": {
        "id": "OnPizW4y_VjG"
      },
      "execution_count": null,
      "outputs": []
    },
    {
      "cell_type": "code",
      "source": [
        "sh[\"theme\"] = sh.apply(lookup_genre, axis=1)\n",
        "sh"
      ],
      "metadata": {
        "id": "DFneyuDBC9Nu"
      },
      "execution_count": null,
      "outputs": []
    },
    {
      "cell_type": "code",
      "source": [
        "sh[sh['theme'].isnull()]['genres'].to_csv(\"missingGenres.csv\", index=False)"
      ],
      "metadata": {
        "id": "ED6MUX05n4S7"
      },
      "execution_count": null,
      "outputs": []
    },
    {
      "cell_type": "markdown",
      "source": [
        "#### Analyzing"
      ],
      "metadata": {
        "id": "5yR0iTFdFtnL"
      }
    },
    {
      "cell_type": "code",
      "source": [
        "# genres by minutes/hours listened\n",
        "listeningByGenre = sh.groupby(['theme'], as_index=False, sort=False).agg({'msPlayed':'sum'})\n",
        "listeningByGenre[\"hours\"] = listeningByGenre.apply(convert_to_hours, axis=1)\n",
        "listeningByGenre.sort_values(by=['hours'],ascending=False)"
      ],
      "metadata": {
        "id": "FA8yosNxFPuM"
      },
      "execution_count": null,
      "outputs": []
    },
    {
      "cell_type": "code",
      "source": [
        "# listening by month/artist\n",
        "\n",
        "## agg by month, artist\n",
        "listeningByMonthGenre = sh.groupby(['month', 'theme'], as_index=False, sort=False).agg({'msPlayed':'sum'})\n",
        "listeningByMonthGenre[\"minutes\"] = listeningByMonthGenre.apply(convert_to_minutes, axis=1)\n",
        "listeningByMonthGenre"
      ],
      "metadata": {
        "id": "JpBSLDykIctr"
      },
      "execution_count": null,
      "outputs": []
    },
    {
      "cell_type": "code",
      "source": [
        "## (partition by) per month, grab the top 10\n",
        "topGenreByMonth = listeningByMonthGenre.groupby(['month'])[['month', 'theme', 'minutes']].apply(lambda grp: grp.nlargest(5, 'minutes'))\n",
        "topGenreByMonth"
      ],
      "metadata": {
        "collapsed": true,
        "id": "Yeped_WcI2OB"
      },
      "execution_count": null,
      "outputs": []
    },
    {
      "cell_type": "code",
      "source": [
        "# top genres\n",
        "topGenres = topGenreByMonth[\"theme\"].unique()\n",
        "topGenres\n",
        "\n",
        "# basically my top 10 genres"
      ],
      "metadata": {
        "id": "3WkzffFvJUdk"
      },
      "execution_count": null,
      "outputs": []
    },
    {
      "cell_type": "code",
      "source": [
        "# listening of top 10 genres\n",
        "top10Genres = listeningByGenre.sort_values(['hours'], ascending=False).head(10)\n",
        "\n",
        "fig, ax = plt.subplots()\n",
        "ax.pie(top10Genres['hours'], labels=top10Genres['theme'])"
      ],
      "metadata": {
        "id": "c5V2Fjk0Jobw"
      },
      "execution_count": null,
      "outputs": []
    },
    {
      "cell_type": "code",
      "source": [],
      "metadata": {
        "id": "5o0V3R44Kua3"
      },
      "execution_count": null,
      "outputs": []
    }
  ]
}